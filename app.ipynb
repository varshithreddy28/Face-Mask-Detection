{
 "cells": [
  {
   "cell_type": "code",
   "execution_count": 1,
   "metadata": {},
   "outputs": [],
   "source": [
    "import cv2\n",
    "import numpy as np\n",
    "from keras.models import load_model\n",
    "model = load_model('FaceMask.h5')\n",
    "vid = cv2.VideoCapture(0)\n",
    "\n",
    "# ioT\n",
    "# from controler import doorAutomate"
   ]
  },
  {
   "cell_type": "code",
   "execution_count": 18,
   "metadata": {},
   "outputs": [],
   "source": [
    "# from controler import doorAutomate"
   ]
  },
  {
   "cell_type": "code",
   "execution_count": 19,
   "metadata": {},
   "outputs": [],
   "source": [
    "# while True:\n",
    "# \tret, frame = vid.read()\n",
    "# \tinp = cv2.resize(frame, dsize=(300,300))\n",
    "# \tinp = np.array([inp])\n",
    "# \tout = np.round(model.predict(inp))\n",
    "# \tif out[0][0] == 1:\n",
    "# \t\ttext = \"With Mask\"\n",
    "# \telse:\n",
    "# \t\ttext = 'Without Mask'\n",
    "# \tcoordinates = (50,50)\n",
    "# \tfont = cv2.FONT_HERSHEY_SIMPLEX\n",
    "# \tfontScale = 1\n",
    "# \tcolor = (255,0,255)\n",
    "# \tthickness = 2\n",
    "# \timage = cv2.putText(frame, text, coordinates, font, fontScale, color, thickness, cv2.LINE_AA)\n",
    "# \tcv2.imshow('frame', frame)\n",
    "# \tif cv2.waitKey(1) & 0xFF == ord('q'):\n",
    "# \t\tbreak\n",
    "# cv2.destroyAllWindows()"
   ]
  },
  {
   "cell_type": "code",
   "execution_count": 2,
   "metadata": {},
   "outputs": [],
   "source": [
    "import urllib.request\n",
    "url = 'http://192.168.0.7/640x480.jpg'"
   ]
  },
  {
   "cell_type": "code",
   "execution_count": 24,
   "metadata": {},
   "outputs": [],
   "source": [
    "\n",
    "# import threading\n",
    "# frame = ''\n",
    "\n",
    "# def imgUpdate():\n",
    "#   global frame\n",
    "#   threading.Timer(1, imgUpdate).start()\n",
    "#   imgResponse=urllib.request.urlopen(url)\n",
    "#   imgnp =  np.array(bytearray(imgResponse.read()),dtype=np. uint8)\n",
    "#   imgnp=cv2.imdecode(imgnp, -1)\n",
    "#   frame = imgnp\n",
    "\n",
    "# imgUpdate()"
   ]
  },
  {
   "cell_type": "code",
   "execution_count": 3,
   "metadata": {},
   "outputs": [],
   "source": [
    "while True:\n",
    "\t# ret, frame = vid.read()\n",
    "\timgResponse=urllib.request.urlopen(url)\n",
    "\timgnp =  np.array(bytearray(imgResponse.read()),dtype=np. uint8)\n",
    "\timgnp=cv2.imdecode(imgnp, -1)\n",
    "\tframe = imgnp\n",
    "\tgray = cv2.cvtColor(frame, cv2.COLOR_BGR2GRAY)\n",
    "\tface_cascade = cv2.CascadeClassifier('haarcascade_frontalface_alt2.xml')\n",
    "\t\n",
    "\t# Detect faces\n",
    "\tfaces = face_cascade.detectMultiScale(gray, 1.1, 4)\n",
    "\tfor (x, y, w, h) in faces:\n",
    "\t\tfaces = frame[y:y + h, x:x + w]\n",
    "\ttry:\n",
    "\t\timg = cv2.resize(faces, dsize=(300,300))\n",
    "\texcept:\n",
    "\t\timg = cv2.resize(frame, dsize=(300,300))\n",
    "\timg = np.array([img])\n",
    "\tresult = model.predict(img)\n",
    "\tif result[0][0] == 1:\n",
    "\t\ttext = \"With Mask\"\n",
    "\t\t# doorAutomate(0)\n",
    "\telse:\n",
    "\t\ttext = 'Without Mask'\n",
    "\t\t# doorAutomate(1)\n",
    "\tcoordinates = (50,50)\n",
    "\tfont = cv2.FONT_HERSHEY_SIMPLEX\n",
    "\tfontScale = 1\n",
    "\tcolor = (255,0,255)\n",
    "\tthickness = 2\n",
    "\timage = cv2.putText(frame, text, coordinates, font, fontScale, color, thickness, cv2.LINE_AA)\n",
    "\tcv2.imshow('frame', frame)\n",
    "\tif cv2.waitKey(1) & 0xFF == ord('q'):\n",
    "\t\t\n",
    "\t\tbreak\n",
    "cv2.destroyAllWindows()"
   ]
  },
  {
   "cell_type": "code",
   "execution_count": 26,
   "metadata": {},
   "outputs": [],
   "source": [
    "# import cv2\n",
    "# import numpy as np\n",
    "\n",
    "# file = r'D:\\Coding\\python\\facemask\\WIN_20220420_20_34_12_Pro.jpg'\n",
    "\n",
    "# # Read the input image\n",
    "# img1 = cv2.imread(file)\n",
    "\n",
    "# # Convert into grayscale\n",
    "# gray = cv2.cvtColor(img1, cv2.COLOR_BGR2GRAY)\n",
    "# face_cascade = cv2.CascadeClassifier('haarcascade_frontalface_alt2.xml')\n",
    "\n",
    "# # Detect faces\n",
    "# faces = face_cascade.detectMultiScale(gray, 1.1, 4)\n",
    "\n",
    "# for (x, y, w, h) in faces:\n",
    "# \tcv2.rectangle(img1, (x, y), (x+w, y+h),\n",
    "# \t\t\t\t(0, 0, 255), 2)\n",
    "\t\n",
    "# \tfaces = img1[y:y + h, x:x + w]\n",
    "# \t#cv2.imshow(\"face\",faces)\n",
    "# \tcv2.imwrite('face.jpg', faces)\n",
    "# \tprint('Face Found')\n",
    "\n",
    "# try:\n",
    "# \timg = cv2.resize(faces, dsize=(300,300))\n",
    "# except:\n",
    "# \timg = cv2.imread(file)\n",
    "# \timg = cv2.resize(img, dsize=(300,300))\n",
    "# img = np.array([img])\n",
    "# result = model.predict(img)\n",
    "# if result[0][0] == 1:\n",
    "# \tprint('With Mask')\n",
    "# else:\n",
    "# \tprint('Without Mask')\n",
    "\n",
    "# while True:\n",
    "#     cv2.imshow('img', img1)\n",
    "#     if cv2.waitKey(1) & 0xFF == ord('q'):\n",
    "#         break;\n",
    "# cv2.destroyAllWindows()"
   ]
  },
  {
   "cell_type": "code",
   "execution_count": null,
   "metadata": {},
   "outputs": [],
   "source": []
  },
  {
   "cell_type": "code",
   "execution_count": null,
   "metadata": {},
   "outputs": [],
   "source": []
  }
 ],
 "metadata": {
  "interpreter": {
   "hash": "34857c3368d4d8063f10d273b1672da5361ddb75f71756c973475579d26fb641"
  },
  "kernelspec": {
   "display_name": "Python 3.10.4 64-bit (windows store)",
   "language": "python",
   "name": "python3"
  },
  "language_info": {
   "codemirror_mode": {
    "name": "ipython",
    "version": 3
   },
   "file_extension": ".py",
   "mimetype": "text/x-python",
   "name": "python",
   "nbconvert_exporter": "python",
   "pygments_lexer": "ipython3",
   "version": "3.10.4"
  },
  "orig_nbformat": 4
 },
 "nbformat": 4,
 "nbformat_minor": 2
}
