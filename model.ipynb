{
  "cells": [
    {
      "cell_type": "code",
      "execution_count": 2,
      "metadata": {
        "id": "cRoQiU3QQyJT"
      },
      "outputs": [],
      "source": [
        "import numpy as np\n",
        "import cv2\n",
        "import os\n",
        "from sklearn.utils import shuffle"
      ]
    },
    {
      "cell_type": "code",
      "execution_count": 3,
      "metadata": {
        "id": "8dD_634TQ5lr"
      },
      "outputs": [],
      "source": [
        "xtrain= []\n",
        "ytrain = []\n",
        "xtest = []\n",
        "ytest = []\n",
        "xval =[]\n",
        "yval = []\n",
        "for dir in ['Train', 'Test', 'Validation']:\n",
        "\tfor label in os.listdir(dir):\n",
        "\t\tfor pic in os.listdir(dir + '/' + label):\n",
        "\t\t\timg = cv2.imread(dir + '/' + label + '/' + pic)\n",
        "\t\t\timg = cv2.resize(img, dsize=(300,300), interpolation=cv2.INTER_CUBIC)\n",
        "\t\t\timg = img / 255\n",
        "\t\t\tif dir == 'Train':\n",
        "\t\t\t\txtrain.append(img)\n",
        "\t\t\t\tif label == 'Mask':\n",
        "\t\t\t\t\tytrain.append(1)\n",
        "\t\t\t\telse:\n",
        "\t\t\t\t\tytrain.append(0)\n",
        "\t\t\telif dir == 'Test':\n",
        "\t\t\t\txtest.append(img)\n",
        "\t\t\t\tif label == 'Mask':\n",
        "\t\t\t\t\tytest.append(1)\n",
        "\t\t\t\telse:\n",
        "\t\t\t\t\tytest.append(0)\n",
        "\t\t\telif dir == 'Validation':\n",
        "\t\t\t\txval.append(img)\n",
        "\t\t\t\tif label == 'Mask':\n",
        "\t\t\t\t\tyval.append(1)\n",
        "\t\t\t\telse:\n",
        "\t\t\t\t\tyval.append(0)"
      ]
    },
    {
      "cell_type": "code",
      "execution_count": 5,
      "metadata": {
        "colab": {
          "base_uri": "https://localhost:8080/"
        },
        "id": "cxHBXn-RRPEg",
        "outputId": "3ea0e858-a66d-4f9f-febd-7d78d1c7fc04"
      },
      "outputs": [
        {
          "name": "stdout",
          "output_type": "stream",
          "text": [
            "Number of training samples : 600\n",
            "xtrain shape : (600, 300, 300, 3)\n",
            "ytrain shape : (600,)\n",
            "Number of testing samples : 100\n",
            "xtest shape : (100, 300, 300, 3)\n",
            "ytest shape : (100,)\n",
            "Number of validation samples : 306\n",
            "xval shape : (306, 300, 300, 3)\n",
            "yval shape : (306,)\n"
          ]
        }
      ],
      "source": [
        "xtrain = np.array(xtrain)\n",
        "ytrain = np.array(ytrain)\n",
        "xtest = np.array(xtest)\n",
        "ytest = np.array(ytest)\n",
        "xval = np.array(xval)\n",
        "yval = np.array(yval)\n",
        "\n",
        "print(f'Number of training samples : {len(xtrain)}')\n",
        "print(f'xtrain shape : {xtrain.shape}')\n",
        "print(f'ytrain shape : {ytrain.shape}')\n",
        "\n",
        "print(f'Number of testing samples : {len(xtest)}')\n",
        "print(f'xtest shape : {xtest.shape}')\n",
        "print(f'ytest shape : {ytest.shape}')\n",
        "\n",
        "print(f'Number of validation samples : {len(xval)}')\n",
        "print(f'xval shape : {xval.shape}')\n",
        "print(f'yval shape : {yval.shape}')"
      ]
    },
    {
      "cell_type": "code",
      "execution_count": 7,
      "metadata": {
        "colab": {
          "base_uri": "https://localhost:8080/"
        },
        "id": "lbhXLgXVSWJn",
        "outputId": "6c680af0-e6ee-45c9-f67a-c1320c4a7769"
      },
      "outputs": [
        {
          "name": "stdout",
          "output_type": "stream",
          "text": [
            "Model: \"sequential_1\"\n",
            "_________________________________________________________________\n",
            " Layer (type)                Output Shape              Param #   \n",
            "=================================================================\n",
            " conv2d_3 (Conv2D)           (None, 298, 298, 32)      896       \n",
            "                                                                 \n",
            " max_pooling2d_3 (MaxPooling  (None, 149, 149, 32)     0         \n",
            " 2D)                                                             \n",
            "                                                                 \n",
            " conv2d_4 (Conv2D)           (None, 147, 147, 32)      9248      \n",
            "                                                                 \n",
            " max_pooling2d_4 (MaxPooling  (None, 73, 73, 32)       0         \n",
            " 2D)                                                             \n",
            "                                                                 \n",
            " conv2d_5 (Conv2D)           (None, 71, 71, 32)        9248      \n",
            "                                                                 \n",
            " max_pooling2d_5 (MaxPooling  (None, 35, 35, 32)       0         \n",
            " 2D)                                                             \n",
            "                                                                 \n",
            " flatten_1 (Flatten)         (None, 39200)             0         \n",
            "                                                                 \n",
            " dense_2 (Dense)             (None, 100)               3920100   \n",
            "                                                                 \n",
            " dense_3 (Dense)             (None, 1)                 101       \n",
            "                                                                 \n",
            "=================================================================\n",
            "Total params: 3,939,593\n",
            "Trainable params: 3,939,593\n",
            "Non-trainable params: 0\n",
            "_________________________________________________________________\n"
          ]
        }
      ],
      "source": [
        "from keras.layers import Conv2D,MaxPooling2D,Flatten,Dropout,Dense\n",
        "from keras.models import Sequential,load_model\n",
        "from keras.callbacks import ModelCheckpoint\n",
        "model=Sequential()\n",
        "model.add(Conv2D(32,(3,3),activation='relu',input_shape=(300,300,3)))\n",
        "model.add(MaxPooling2D() )\n",
        "model.add(Conv2D(32,(3,3),activation='relu'))\n",
        "model.add(MaxPooling2D() )\n",
        "model.add(Conv2D(32,(3,3),activation='relu'))\n",
        "model.add(MaxPooling2D() )\n",
        "model.add(Flatten())\n",
        "model.add(Dense(100,activation='relu'))\n",
        "model.add(Dense(1,activation='sigmoid'))\n",
        "checkpoint = ModelCheckpoint('FaceMask.h5', save_best_only=True)\n",
        "model.compile(optimizer='adam',loss='binary_crossentropy',metrics=['accuracy'])\n",
        "model.summary()"
      ]
    },
    {
      "cell_type": "code",
      "execution_count": 8,
      "metadata": {
        "colab": {
          "base_uri": "https://localhost:8080/"
        },
        "id": "apokyYWhTUIq",
        "outputId": "490ec263-e583-4cb8-ecd7-fe540df26861"
      },
      "outputs": [
        {
          "name": "stdout",
          "output_type": "stream",
          "text": [
            "Epoch 1/10\n",
            "19/19 [==============================] - 37s 2s/step - loss: 0.5285 - accuracy: 0.7467 - val_loss: 0.4063 - val_accuracy: 0.8268\n",
            "Epoch 2/10\n",
            "19/19 [==============================] - 33s 2s/step - loss: 0.3249 - accuracy: 0.8600 - val_loss: 0.2788 - val_accuracy: 0.9118\n",
            "Epoch 3/10\n",
            "19/19 [==============================] - 32s 2s/step - loss: 0.2313 - accuracy: 0.9167 - val_loss: 0.2645 - val_accuracy: 0.8954\n",
            "Epoch 4/10\n",
            "19/19 [==============================] - 31s 2s/step - loss: 0.1327 - accuracy: 0.9517 - val_loss: 0.3324 - val_accuracy: 0.8954\n",
            "Epoch 5/10\n",
            "19/19 [==============================] - 31s 2s/step - loss: 0.1211 - accuracy: 0.9483 - val_loss: 0.2439 - val_accuracy: 0.9085\n",
            "Epoch 6/10\n",
            "19/19 [==============================] - 31s 2s/step - loss: 0.0833 - accuracy: 0.9700 - val_loss: 0.3303 - val_accuracy: 0.9052\n",
            "Epoch 7/10\n",
            "19/19 [==============================] - 35s 2s/step - loss: 0.0504 - accuracy: 0.9800 - val_loss: 0.3819 - val_accuracy: 0.8954\n",
            "Epoch 8/10\n",
            "19/19 [==============================] - 31s 2s/step - loss: 0.0599 - accuracy: 0.9800 - val_loss: 0.2520 - val_accuracy: 0.9118\n",
            "Epoch 9/10\n",
            "19/19 [==============================] - 30s 2s/step - loss: 0.0222 - accuracy: 0.9933 - val_loss: 0.3453 - val_accuracy: 0.9020\n",
            "Epoch 10/10\n",
            "19/19 [==============================] - 30s 2s/step - loss: 0.0089 - accuracy: 1.0000 - val_loss: 0.4454 - val_accuracy: 0.8987\n"
          ]
        },
        {
          "data": {
            "text/plain": [
              "<keras.callbacks.History at 0x256bb4f1930>"
            ]
          },
          "execution_count": 8,
          "metadata": {},
          "output_type": "execute_result"
        }
      ],
      "source": [
        "model.fit(xtrain, ytrain, epochs=10, validation_data=(xval, yval), verbose=1, callbacks=[checkpoint])"
      ]
    },
    {
      "cell_type": "code",
      "execution_count": 9,
      "metadata": {
        "id": "J8RD_OSXTjaC"
      },
      "outputs": [],
      "source": [
        "from sklearn.metrics import confusion_matrix"
      ]
    },
    {
      "cell_type": "code",
      "execution_count": 10,
      "metadata": {
        "colab": {
          "base_uri": "https://localhost:8080/"
        },
        "id": "xwc3FT2_VPfQ",
        "outputId": "9453bc71-325c-47a5-8273-8ffd841d4045"
      },
      "outputs": [
        {
          "data": {
            "text/plain": [
              "array([[300,   0],\n",
              "       [  0, 300]], dtype=int64)"
            ]
          },
          "execution_count": 10,
          "metadata": {},
          "output_type": "execute_result"
        }
      ],
      "source": [
        "trainPred = model.predict(xtrain)\n",
        "trainPred = np.round(trainPred)\n",
        "confusion_matrix(ytrain, trainPred)"
      ]
    },
    {
      "cell_type": "code",
      "execution_count": 11,
      "metadata": {
        "colab": {
          "base_uri": "https://localhost:8080/"
        },
        "id": "P01MjPzrVbe9",
        "outputId": "4101946f-5a08-4ce8-f352-54c02dd585f3"
      },
      "outputs": [
        {
          "data": {
            "text/plain": [
              "array([[49,  1],\n",
              "       [ 9, 41]], dtype=int64)"
            ]
          },
          "execution_count": 11,
          "metadata": {},
          "output_type": "execute_result"
        }
      ],
      "source": [
        "testPred = model.predict(xtest)\n",
        "testPred = np.round(testPred)\n",
        "confusion_matrix(ytest, testPred)"
      ]
    },
    {
      "cell_type": "code",
      "execution_count": 12,
      "metadata": {},
      "outputs": [
        {
          "data": {
            "text/plain": [
              "array([[150,   3],\n",
              "       [ 28, 125]], dtype=int64)"
            ]
          },
          "execution_count": 12,
          "metadata": {},
          "output_type": "execute_result"
        }
      ],
      "source": [
        "valPred = model.predict(xval)\n",
        "valPred = np.round(valPred)\n",
        "confusion_matrix(yval, valPred)"
      ]
    },
    {
      "cell_type": "code",
      "execution_count": null,
      "metadata": {
        "id": "4Sw7UrvwVraI"
      },
      "outputs": [],
      "source": [
        "model.save('faceMaskDetection.h5')"
      ]
    },
    {
      "cell_type": "code",
      "execution_count": null,
      "metadata": {
        "id": "QrWHPJLtYN-0"
      },
      "outputs": [],
      "source": [
        "from keras.models import load_model\n",
        "model = load_model('faceMaskDetection.h5')"
      ]
    },
    {
      "cell_type": "code",
      "execution_count": 13,
      "metadata": {
        "colab": {
          "base_uri": "https://localhost:8080/"
        },
        "id": "JTAqjlN1YZ13",
        "outputId": "ca7d2b86-0bd6-4b86-f877-d120876b6357"
      },
      "outputs": [
        {
          "name": "stdout",
          "output_type": "stream",
          "text": [
            "[[1.]]\n",
            "1\n"
          ]
        }
      ],
      "source": [
        "inp = np.array([xtrain[5]])\n",
        "print(np.round(model.predict(inp)))\n",
        "print(ytrain[0])"
      ]
    },
    {
      "cell_type": "code",
      "execution_count": null,
      "metadata": {},
      "outputs": [],
      "source": []
    }
  ],
  "metadata": {
    "colab": {
      "name": "Varshith.ipynb",
      "provenance": []
    },
    "kernelspec": {
      "display_name": "Python 3",
      "name": "python3"
    },
    "language_info": {
      "codemirror_mode": {
        "name": "ipython",
        "version": 3
      },
      "file_extension": ".py",
      "mimetype": "text/x-python",
      "name": "python",
      "nbconvert_exporter": "python",
      "pygments_lexer": "ipython3",
      "version": "3.10.4"
    }
  },
  "nbformat": 4,
  "nbformat_minor": 0
}
